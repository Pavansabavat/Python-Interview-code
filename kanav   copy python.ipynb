{
 "cells": [
  {
   "cell_type": "code",
   "execution_count": 7,
   "id": "0edf6816",
   "metadata": {},
   "outputs": [
    {
     "name": "stdout",
     "output_type": "stream",
     "text": [
      "2\n",
      "2\n"
     ]
    }
   ],
   "source": [
    "num = int(input())\n",
    "print('%d' % (num))"
   ]
  },
  {
   "cell_type": "code",
   "execution_count": 8,
   "id": "d96a0199",
   "metadata": {},
   "outputs": [
    {
     "name": "stdout",
     "output_type": "stream",
     "text": [
      "5 6 string\n",
      "5 6 string\n",
      "5 6 string\n"
     ]
    }
   ],
   "source": [
    "\n",
    "a = 5\n",
    "\n",
    "b = 6\n",
    "\n",
    "c = 'string'\n",
    "\n",
    "print(a, b, c)\n",
    "\n",
    "print('%d %d %s' % (a, b, c))\n",
    "\n",
    "print('{0} {1} {2}'.format(a, b, c))\n",
    "\n",
    "# c a b"
   ]
  },
  {
   "cell_type": "code",
   "execution_count": 9,
   "id": "af11b980",
   "metadata": {},
   "outputs": [
    {
     "name": "stdout",
     "output_type": "stream",
     "text": [
      "545454545454\n",
      "5 6 7\n",
      "Python 1 2\n",
      "1,2,3\n",
      "1,2,3!!123\n"
     ]
    }
   ],
   "source": [
    "\n",
    "\n",
    "# This entire statement won't be displayed\n",
    "\n",
    "print('54'*6)\n",
    "\n",
    "print(5,6,7) # sep = ' ', end = '\\n'\n",
    "\n",
    "print('Python', 1, 2)\n",
    "\n",
    "print(1,2,3, sep=',')\n",
    "\n",
    "print(1,2,3, sep=',', end='!!')\n",
    "\n",
    "print(123)\n",
    "\n"
   ]
  },
  {
   "cell_type": "code",
   "execution_count": 16,
   "id": "52880281",
   "metadata": {},
   "outputs": [
    {
     "ename": "SyntaxError",
     "evalue": "invalid syntax (Temp/ipykernel_5076/2570163071.py, line 1)",
     "output_type": "error",
     "traceback": [
      "\u001b[1;36m  File \u001b[1;32m\"C:\\Users\\DELL\\AppData\\Local\\Temp/ipykernel_5076/2570163071.py\"\u001b[1;36m, line \u001b[1;32m1\u001b[0m\n\u001b[1;33m    print('this line won't get displayed\")\u001b[0m\n\u001b[1;37m                         ^\u001b[0m\n\u001b[1;31mSyntaxError\u001b[0m\u001b[1;31m:\u001b[0m invalid syntax\n"
     ]
    }
   ],
   "source": [
    "print('this line won't get displayed\")"
   ]
  },
  {
   "cell_type": "code",
   "execution_count": 17,
   "id": "eefc8650",
   "metadata": {},
   "outputs": [
    {
     "name": "stdout",
     "output_type": "stream",
     "text": [
      "this line won't get displayed\n"
     ]
    }
   ],
   "source": [
    "print('this line won\\'t get displayed')"
   ]
  },
  {
   "cell_type": "code",
   "execution_count": 18,
   "id": "7bac8974",
   "metadata": {},
   "outputs": [
    {
     "name": "stdout",
     "output_type": "stream",
     "text": [
      "this is\n",
      "a multi \tline \n",
      "statement\n"
     ]
    }
   ],
   "source": [
    "print('this is\\na multi \\tline \\nstatement')"
   ]
  },
  {
   "cell_type": "code",
   "execution_count": 19,
   "id": "be123825",
   "metadata": {},
   "outputs": [
    {
     "name": "stdout",
     "output_type": "stream",
     "text": [
      "hello\n",
      "a iam pavan \t iam  an\t ies\n",
      "this \n",
      " is  my \t laptop  and \n",
      "  where \t it is\n"
     ]
    }
   ],
   "source": [
    "print(\"hello\\na iam pavan \\t iam  an\\t ies\")\n",
    "\n",
    "\n",
    "print('this \\n is  my \\t laptop  and \\n  where \\t it is')\n",
    "\n",
    "\n",
    "# \\n means    next line  and \n",
    "# \\t  means   continue in line "
   ]
  },
  {
   "cell_type": "code",
   "execution_count": 20,
   "id": "f2f948bc",
   "metadata": {},
   "outputs": [
    {
     "name": "stdout",
     "output_type": "stream",
     "text": [
      "a<b =  False\n",
      "a<=b =  False\n",
      "a>b =  True\n",
      "a>=b =  True\n"
     ]
    }
   ],
   "source": [
    "# Relational Operators\n",
    "\n",
    "a = 10;\n",
    "b = 6;\n",
    "print('a<b = ', a<b);\n",
    "print('a<=b = ', a<=b);\n",
    "print('a>b = ', a>b);\n",
    "print('a>=b = ', a>=b);\n",
    "\n"
   ]
  },
  {
   "cell_type": "code",
   "execution_count": 21,
   "id": "63346d69",
   "metadata": {},
   "outputs": [
    {
     "name": "stdout",
     "output_type": "stream",
     "text": [
      "a==b  False\n",
      "a!=b  True\n"
     ]
    }
   ],
   "source": [
    "# Equality Operators\n",
    "\n",
    "a = 10;\n",
    "b = 6;\n",
    "print('a==b ', a==b);\n",
    "print('a!=b ', a!=b);"
   ]
  },
  {
   "cell_type": "code",
   "execution_count": 22,
   "id": "2bf5732a",
   "metadata": {},
   "outputs": [
    {
     "name": "stdout",
     "output_type": "stream",
     "text": [
      "False\n",
      "True\n",
      "True\n"
     ]
    }
   ],
   "source": [
    "# Logical Operators\n",
    "\n",
    "print(5 < 6 and 6 < 6)\n",
    "\n",
    "print(5 < 6 or 6 < 6)\n",
    "\n",
    "print(not(5 < 6 and 6 < 6))"
   ]
  },
  {
   "cell_type": "code",
   "execution_count": 23,
   "id": "f88864a1",
   "metadata": {},
   "outputs": [
    {
     "name": "stdout",
     "output_type": "stream",
     "text": [
      "0\n",
      "15\n",
      "15\n",
      "-11\n"
     ]
    }
   ],
   "source": [
    "\n",
    "\n",
    "# Bitwise\n",
    "# & -> if both bits are 1 then 1 otherwise 0\n",
    "# | -> if both bits are 0 then 0 otherwise 1\n",
    "# ^ -> if both bits are different then 1 otherwise 0\n",
    "# ~ -> bitwise complement\n",
    "\n",
    "print(5 & 10)\n",
    "\n",
    "print(5 | 10)\n",
    "\n",
    "print(5 ^ 10)\n",
    "\n",
    "print(~10)\n",
    "\n"
   ]
  },
  {
   "cell_type": "code",
   "execution_count": 24,
   "id": "44579a42",
   "metadata": {},
   "outputs": [
    {
     "name": "stdout",
     "output_type": "stream",
     "text": [
      "20\n",
      "5\n"
     ]
    }
   ],
   "source": [
    "\n",
    "\n",
    "# Shift Operators\n",
    "\n",
    "print(10 << 1);\n",
    "\n",
    "print(10 >> 1);\n",
    "\n"
   ]
  },
  {
   "cell_type": "code",
   "execution_count": 25,
   "id": "aca55370",
   "metadata": {},
   "outputs": [
    {
     "name": "stdout",
     "output_type": "stream",
     "text": [
      "20\n"
     ]
    }
   ],
   "source": [
    "\n",
    "\n",
    "# Assignment Operators\n",
    "\n",
    "x = 10;\n",
    "\n",
    "x += 10;\n",
    "\n",
    "print(x);\n",
    "\n"
   ]
  },
  {
   "cell_type": "code",
   "execution_count": 26,
   "id": "686ac333",
   "metadata": {},
   "outputs": [
    {
     "name": "stdout",
     "output_type": "stream",
     "text": [
      "5 6\n"
     ]
    }
   ],
   "source": [
    "\n",
    "\n",
    "# Ternary\n",
    "\n",
    "x = 5 if (5 < 6) else 6\n",
    "\n",
    "y = 5 if (5 > 6) else 6\n",
    "\n",
    "print(x, y)\n",
    "\n"
   ]
  },
  {
   "cell_type": "code",
   "execution_count": 27,
   "id": "c3db3f49",
   "metadata": {},
   "outputs": [
    {
     "name": "stdout",
     "output_type": "stream",
     "text": [
      "<class 'int'>\n",
      "<class 'float'>\n",
      "<class 'complex'>\n"
     ]
    }
   ],
   "source": [
    "a = 5;\n",
    "\n",
    "b = 5.0;\n",
    "\n",
    "c = 5 + 0j;\n",
    "\n",
    "print(type(a))\n",
    "\n",
    "print(type(b))\n",
    "\n",
    "print(type(c))"
   ]
  },
  {
   "cell_type": "code",
   "execution_count": 28,
   "id": "fd72cfc4",
   "metadata": {},
   "outputs": [
    {
     "name": "stdout",
     "output_type": "stream",
     "text": [
      "1.2e+34\n",
      "<class 'float'>\n"
     ]
    }
   ],
   "source": [
    "f = 1.2E34\n",
    "\n",
    "# f = 1.23e34 and f = 1.23e+34 are equivalent\n",
    "\n",
    "print(f)\n",
    "\n",
    "print(type(f))"
   ]
  },
  {
   "cell_type": "code",
   "execution_count": 29,
   "id": "276517da",
   "metadata": {},
   "outputs": [
    {
     "name": "stdout",
     "output_type": "stream",
     "text": [
      "<class 'complex'>\n",
      "(15+20j)\n",
      "True\n",
      "10.0\n",
      "20.0\n"
     ]
    }
   ],
   "source": [
    "\n",
    "\n",
    "c = 10+20j\n",
    "\n",
    "print(type(c))\n",
    "\n",
    "print(c + 5)\n",
    "\n",
    "print(isinstance(c, complex))\n",
    "\n",
    "print(c.real)\n",
    "\n",
    "print(c.imag)\n",
    "\n"
   ]
  },
  {
   "cell_type": "markdown",
   "id": "09eb325b",
   "metadata": {},
   "source": [
    "### Strings"
   ]
  },
  {
   "cell_type": "markdown",
   "id": "ac84391e",
   "metadata": {},
   "source": [
    "# Data Types in Python\n",
    "\n",
    "As we know that python is Dynamically typed programming language, than why do we need to learn about data type at all?\n",
    "\n",
    "Although python automatically understands the data type, but it is important to know about data types so that we can utilize the power of data structures in future.\n",
    "\n",
    "Basic Data Types available in python are:\n",
    "\n",
    "    Numeric - int, float, complex (Immutable)\n",
    "    Strings (Immutable)\n",
    "    List (Mutable, mostly used to store homogeneous data types)\n",
    "    Tuple (Immutable, faster compared to List)\n",
    "    Set (Unordered collection of items, mutable, removes duplicates)\n",
    "    Dictionary (Unordered collection of Key-Value Pairs, Mutable, Keys are Unique - values may not be unique)\n",
    "\n"
   ]
  },
  {
   "cell_type": "code",
   "execution_count": 30,
   "id": "8d131e8f",
   "metadata": {},
   "outputs": [
    {
     "name": "stdout",
     "output_type": "stream",
     "text": [
      "<class 'str'>\n",
      "<class 'str'>\n",
      "22\n"
     ]
    }
   ],
   "source": [
    "\n",
    "\n",
    "c = 'a'\n",
    "\n",
    "print(type(c))\n",
    "\n",
    "s = 'We are leaning Python!'\n",
    "\n",
    "print(type(s))\n",
    "\n",
    "print(len(s))\n",
    "\n"
   ]
  },
  {
   "cell_type": "code",
   "execution_count": 31,
   "id": "73ea83dd",
   "metadata": {},
   "outputs": [
    {
     "name": "stdout",
     "output_type": "stream",
     "text": [
      "i\n",
      "hi there\n",
      "hi 10\n"
     ]
    }
   ],
   "source": [
    "\n",
    "\n",
    "s = 'hi'\n",
    "\n",
    "print(s[1])\n",
    "\n",
    "# print(s[3])\n",
    "\n",
    "# print(s[1.0])\n",
    "\n",
    "print(s+' there')\n",
    "\n",
    "print(s, 10)\n",
    "\n"
   ]
  },
  {
   "cell_type": "code",
   "execution_count": 32,
   "id": "d6219d40",
   "metadata": {},
   "outputs": [
    {
     "name": "stdout",
     "output_type": "stream",
     "text": [
      "-1\n",
      "We are learning Python!\n",
      "['We', 'are', 'learning', 'Python!']\n",
      "<class 'list'>\n",
      "We are learning Python!\n",
      "<class 'str'>\n"
     ]
    }
   ],
   "source": [
    "\n",
    "s = 'We are leaning Python!'\n",
    "\n",
    "print(s.find('learning'))\n",
    "\n",
    "s = s.replace('leaning', 'learning')\n",
    "\n",
    "print(s)\n",
    "\n",
    "split_string = s.split(' ')\n",
    "\n",
    "print(split_string)\n",
    "\n",
    "print(type(split_string))\n",
    "\n",
    "join_string = ' '.join(split_string)\n",
    "\n",
    "print(join_string)\n",
    "\n",
    "print(type(join_string))\n",
    "\n"
   ]
  },
  {
   "cell_type": "code",
   "execution_count": 33,
   "id": "746827af",
   "metadata": {},
   "outputs": [
    {
     "name": "stdout",
     "output_type": "stream",
     "text": [
      "-1\n",
      "iam  going to markett!\n",
      "['iam', '', 'going', 'to', 'markett!']\n",
      "iam  going to markett!\n"
     ]
    }
   ],
   "source": [
    "a='iam  going to marktt!'\n",
    "print(a.find('market'))\n",
    "a=a.replace(\"markt\",\"market\")\n",
    "print(a)\n",
    "split=a.split(\" \")\n",
    "print(split)\n",
    "join=\" \".join(split)\n",
    "print(join)"
   ]
  },
  {
   "cell_type": "code",
   "execution_count": 34,
   "id": "a54ee50d",
   "metadata": {},
   "outputs": [
    {
     "name": "stdout",
     "output_type": "stream",
     "text": [
      "T\n",
      "TaAGy\n",
      "ThatA\n",
      "IGuy\n",
      "atAI\n",
      "yuGIAtahT\n"
     ]
    }
   ],
   "source": [
    "\n",
    "\n",
    "s = 'ThatAIGuy'\n",
    "\n",
    "print(s[-9])\n",
    "\n",
    "print(s[::2])\n",
    "\n",
    "print(s[:5])\n",
    "\n",
    "print(s[5:])\n",
    "\n",
    "print(s[-7:-3:1])\n",
    "\n",
    "print(s[::-1])\n",
    "\n"
   ]
  },
  {
   "cell_type": "code",
   "execution_count": 35,
   "id": "6f04561c",
   "metadata": {},
   "outputs": [
    {
     "name": "stdout",
     "output_type": "stream",
     "text": [
      "shark\n",
      "cuttlefish\n",
      "squid\n",
      "mantisshrimp\n",
      "anemone\n",
      "********************\n",
      "anemone\n",
      "mantisshrimp\n",
      "squid\n",
      "cuttlefish\n",
      "shark\n"
     ]
    }
   ],
   "source": [
    "sea_creatures = ['shark', 'cuttlefish', 'squid', 'mantisshrimp', 'anemone']\n",
    "\n",
    "print(sea_creatures[0])\n",
    "\n",
    "print(sea_creatures[1])\n",
    "\n",
    "print(sea_creatures[2])\n",
    "\n",
    "print(sea_creatures[3])\n",
    "\n",
    "print(sea_creatures[4])\n",
    "\n",
    "# print(sea_creatures[5])  it wiill also throw errors\n",
    "\n",
    "print('*'*20)\n",
    "\n",
    "print(sea_creatures[-1])\n",
    "\n",
    "print(sea_creatures[-2])\n",
    "\n",
    "print(sea_creatures[-3])\n",
    "\n",
    "print(sea_creatures[-4])\n",
    "print(sea_creatures[-5])\n",
    "\n",
    "# try print(sea_creatures[-6]) it will throw out of range error"
   ]
  },
  {
   "cell_type": "code",
   "execution_count": 36,
   "id": "f38d1d1e",
   "metadata": {},
   "outputs": [
    {
     "name": "stdout",
     "output_type": "stream",
     "text": [
      "ThatAIguy\n",
      "g\n",
      "ThatAIguy\n"
     ]
    }
   ],
   "source": [
    "\n",
    "\n",
    "# Strings are Immutable\n",
    "\n",
    "s = 'ThatAIguy'\n",
    "\n",
    "print(s)\n",
    "\n",
    "print(s[6])\n",
    "\n",
    "# s[6] = 'G'  we cant replace  in the value\n",
    "\n",
    "print(s)\n"
   ]
  },
  {
   "cell_type": "code",
   "execution_count": 37,
   "id": "ea9d2ef2",
   "metadata": {},
   "outputs": [
    {
     "name": "stdout",
     "output_type": "stream",
     "text": [
      "a\n",
      "5\n"
     ]
    }
   ],
   "source": [
    "\n",
    "\n",
    "\"\"\"\n",
    "This is a multi line comment demonstrated by using triple double-quote\n",
    "\n",
    "This is an example for nested lists.\n",
    "\"\"\"\n",
    "\n",
    "nest_list = ['Happy', [2, 0, 1, 5]]\n",
    "\n",
    "print(nest_list[0][1])\n",
    "\n",
    "print(nest_list[1][3])\n",
    "\n"
   ]
  },
  {
   "cell_type": "code",
   "execution_count": 38,
   "id": "c300480f",
   "metadata": {},
   "outputs": [
    {
     "name": "stdout",
     "output_type": "stream",
     "text": [
      "['shark', 'cuttlefish', 'squid', 'mantisshrimp', 'anemone']\n",
      "['shark', 'octopus', 'squid', 'mantisshrimp', 'anemone']\n",
      "['shark', 'octopus', 'blobfish', 'mantisshrimp', 'anemone']\n",
      "['shark', 'octopus', 'pavan', 'mantisshrimp', 'anemone']\n"
     ]
    }
   ],
   "source": [
    "# Because lists are mutable, below written code will\n",
    "# overwrite existing list\n",
    "# \"\"\"\n",
    "\n",
    "sea_creatures = ['shark', 'cuttlefish', 'squid', 'mantisshrimp', 'anemone']\n",
    "\n",
    "print(sea_creatures)\n",
    "\n",
    "sea_creatures[1] = 'octopus'\n",
    "\n",
    "print(sea_creatures)\n",
    "\n",
    "sea_creatures[-3] = 'blobfish'\n",
    "\n",
    "print(sea_creatures)\n",
    "\n",
    "# sea_creatures[0][2] = 'd'   becoz  no nested list\n",
    "sea_creatures[2]='pavan'\n",
    "print(sea_creatures)"
   ]
  },
  {
   "cell_type": "code",
   "execution_count": 39,
   "id": "9892f43a",
   "metadata": {},
   "outputs": [
    {
     "name": "stdout",
     "output_type": "stream",
     "text": [
      "['T', 'h', 'a', 't']\n",
      "['I', 'G']\n",
      "['T', 'h', 'a', 't', 'A', 'I']\n"
     ]
    }
   ],
   "source": [
    "# Slicing Operation\n",
    "\n",
    "my_list = ['T', 'h', 'a', 't', 'A', 'I', 'G', 'u', 'y']\n",
    "\n",
    "print(my_list[:-5])\n",
    "\n",
    "print(my_list[-4:-2])\n",
    "\n",
    "print(my_list[:-3])"
   ]
  },
  {
   "cell_type": "code",
   "execution_count": 40,
   "id": "398ef49d",
   "metadata": {},
   "outputs": [
    {
     "name": "stdout",
     "output_type": "stream",
     "text": [
      "[484, 576, 676, 625, 25]\n"
     ]
    }
   ],
   "source": [
    "\n",
    "# Python program to demonstrate working\n",
    "# of map.\n",
    "  \n",
    "# Return double of n\n",
    "def subtraction(n):\n",
    "    return n * n\n",
    "  \n",
    "# We double all numbers using map()\n",
    "numbers = (22,24,26,25,5)\n",
    "result =map(subtraction, numbers)\n",
    "print(list(result))"
   ]
  },
  {
   "cell_type": "code",
   "execution_count": 41,
   "id": "a31c84ab",
   "metadata": {},
   "outputs": [
    {
     "name": "stdout",
     "output_type": "stream",
     "text": [
      "[1, 3125, 27, 256]\n"
     ]
    }
   ],
   "source": [
    "numbers = (1, 5, 3, 4)\n",
    "result = map(lambda x: x ** x, numbers)\n",
    "print(list(result))"
   ]
  },
  {
   "cell_type": "code",
   "execution_count": 42,
   "id": "c857099f",
   "metadata": {},
   "outputs": [
    {
     "ename": "NameError",
     "evalue": "name 'test' is not defined",
     "output_type": "error",
     "traceback": [
      "\u001b[1;31m---------------------------------------------------------------------------\u001b[0m",
      "\u001b[1;31mNameError\u001b[0m                                 Traceback (most recent call last)",
      "\u001b[1;32m~\\AppData\\Local\\Temp/ipykernel_5076/3230381717.py\u001b[0m in \u001b[0;36m<module>\u001b[1;34m\u001b[0m\n\u001b[0;32m      4\u001b[0m \u001b[1;31m# map() can listify the list of strings individually\u001b[0m\u001b[1;33m\u001b[0m\u001b[1;33m\u001b[0m\u001b[0m\n\u001b[0;32m      5\u001b[0m \u001b[0msplitt\u001b[0m \u001b[1;33m=\u001b[0m \u001b[0mlist\u001b[0m\u001b[1;33m(\u001b[0m\u001b[0mmap\u001b[0m\u001b[1;33m(\u001b[0m\u001b[0mlist\u001b[0m\u001b[1;33m,\u001b[0m \u001b[0ml\u001b[0m\u001b[1;33m)\u001b[0m\u001b[1;33m)\u001b[0m\u001b[1;33m\u001b[0m\u001b[1;33m\u001b[0m\u001b[0m\n\u001b[1;32m----> 6\u001b[1;33m \u001b[0mprint\u001b[0m\u001b[1;33m(\u001b[0m\u001b[0mtest\u001b[0m\u001b[1;33m)\u001b[0m\u001b[1;33m\u001b[0m\u001b[1;33m\u001b[0m\u001b[0m\n\u001b[0m",
      "\u001b[1;31mNameError\u001b[0m: name 'test' is not defined"
     ]
    }
   ],
   "source": [
    "\n",
    "# List of strings\n",
    "l = ['pa1', 'ra1', 'g1', '3sha']\n",
    "  \n",
    "# map() can listify the list of strings individually\n",
    "splitt = list(map(list, l))\n",
    "print(test)"
   ]
  },
  {
   "cell_type": "code",
   "execution_count": 43,
   "id": "e76e8a5b",
   "metadata": {},
   "outputs": [
    {
     "name": "stdout",
     "output_type": "stream",
     "text": [
      "6\n"
     ]
    }
   ],
   "source": [
    "a=(1,2,3,4,5,1)\n",
    "print(a.__len__())"
   ]
  },
  {
   "cell_type": "code",
   "execution_count": 44,
   "id": "59c01fd2",
   "metadata": {},
   "outputs": [
    {
     "name": "stdout",
     "output_type": "stream",
     "text": [
      "1 4 5 6\n"
     ]
    }
   ],
   "source": [
    "a,b,c='123'\n",
    "b,c,d='456'\n",
    "print(a,b,c,d)"
   ]
  },
  {
   "cell_type": "code",
   "execution_count": 45,
   "id": "6524d06b",
   "metadata": {},
   "outputs": [],
   "source": [
    "a=\"python\""
   ]
  },
  {
   "cell_type": "code",
   "execution_count": 46,
   "id": "eaf05db4",
   "metadata": {},
   "outputs": [
    {
     "data": {
      "text/plain": [
       "'~~python~~'"
      ]
     },
     "execution_count": 46,
     "metadata": {},
     "output_type": "execute_result"
    }
   ],
   "source": [
    "a.center(10,'~')"
   ]
  },
  {
   "cell_type": "code",
   "execution_count": 47,
   "id": "c819b456",
   "metadata": {},
   "outputs": [
    {
     "name": "stdout",
     "output_type": "stream",
     "text": [
      "This line will print always\n"
     ]
    }
   ],
   "source": [
    "\n",
    "\n",
    "num =0.1\n",
    "\n",
    "if(num)>=1:\n",
    "    print('Number is positive')\n",
    "\n",
    "print('This line will print always')\n",
    "\n",
    "# if -1 and 0:\n",
    "# 0, None, -ve, +ve\n",
    "\n"
   ]
  },
  {
   "cell_type": "code",
   "execution_count": 48,
   "id": "3042a1e0",
   "metadata": {},
   "outputs": [
    {
     "name": "stdout",
     "output_type": "stream",
     "text": [
      "Negative\n",
      "This line will print anyways\n"
     ]
    }
   ],
   "source": [
    "\n",
    "\n",
    "num = -1\n",
    "\n",
    "if(num >= 0):\n",
    "    print('Positive')\n",
    "else:\n",
    "    print('Negative')\n",
    "print('This line will print anyways')\n",
    "\n"
   ]
  },
  {
   "cell_type": "code",
   "execution_count": 49,
   "id": "86f44288",
   "metadata": {},
   "outputs": [
    {
     "name": "stdout",
     "output_type": "stream",
     "text": [
      "ZERO\n"
     ]
    }
   ],
   "source": [
    "\n",
    "\n",
    "num = 0\n",
    "\n",
    "if(num > 0):\n",
    "    print('Positive')\n",
    "elif(num == 0):\n",
    "    print('ZERO')\n",
    "else:\n",
    "    print('Negative')\n",
    "\n"
   ]
  },
  {
   "cell_type": "code",
   "execution_count": 50,
   "id": "ed7403cd",
   "metadata": {},
   "outputs": [
    {
     "name": "stdout",
     "output_type": "stream",
     "text": [
      "A grade\n"
     ]
    }
   ],
   "source": [
    "\n",
    "\n",
    "# Try 90, 78, 50, 9999\n",
    "\n",
    "grade = 90\n",
    "\n",
    "if grade >= 90 and grade<=100:\n",
    "    print(\"A grade\")\n",
    "\n",
    "elif grade >=80 and grade<=90:\n",
    "    print(\"B grade\")\n",
    "\n",
    "elif grade >=70:\n",
    "    print(\"C grade\")\n",
    "\n",
    "elif grade >= 65:\n",
    "    print(\"D grade\")\n",
    "\n",
    "else:\n",
    "    print(\"Failing grade\")\n",
    "\n"
   ]
  },
  {
   "cell_type": "code",
   "execution_count": 51,
   "id": "98be4d85",
   "metadata": {},
   "outputs": [
    {
     "name": "stdout",
     "output_type": "stream",
     "text": [
      "Failing grade\n"
     ]
    }
   ],
   "source": [
    "\n",
    "# Try 90, 78, 50, 9999\n",
    "\n",
    "grade =50\n",
    "\n",
    "if grade >= 90 and grade<=100:\n",
    "    print(\"A grade\")\n",
    "\n",
    "elif grade >=80 and grade<=90:\n",
    "    print(\"B grade\")\n",
    "\n",
    "elif grade >=70:\n",
    "    print(\"C grade\")\n",
    "\n",
    "elif grade >= 65:\n",
    "    print(\"D grade\")\n",
    "\n",
    "else:\n",
    "    print(\"Failing grade\")\n"
   ]
  },
  {
   "cell_type": "code",
   "execution_count": 52,
   "id": "08f1c390",
   "metadata": {},
   "outputs": [
    {
     "name": "stdout",
     "output_type": "stream",
     "text": [
      "C grade\n"
     ]
    }
   ],
   "source": [
    "\n",
    "# Try 90, 78, 50, 9999\n",
    "\n",
    "grade = 9999\n",
    "\n",
    "if grade >= 90 and grade<=100:\n",
    "    print(\"A grade\")\n",
    "\n",
    "elif grade >=80 and grade<=90:\n",
    "    print(\"B grade\")\n",
    "\n",
    "elif grade >=70:\n",
    "    print(\"C grade\")\n",
    "\n",
    "elif grade >= 65:\n",
    "    print(\"D grade\")\n",
    "\n",
    "else:\n",
    "    print(\"Failing grade\")\n"
   ]
  },
  {
   "cell_type": "markdown",
   "id": "f1beb866",
   "metadata": {},
   "source": [
    "## Loops"
   ]
  },
  {
   "cell_type": "code",
   "execution_count": 53,
   "id": "223dd77f",
   "metadata": {},
   "outputs": [
    {
     "name": "stdout",
     "output_type": "stream",
     "text": [
      "The count is:   0\n",
      "The count is:   1\n",
      "The count is:   2\n",
      "The count is:   3\n",
      "The count is:   4\n",
      "Good bye! count is:  5\n"
     ]
    }
   ],
   "source": [
    "\n",
    "\n",
    "count = 0\n",
    "while(count < 5):\n",
    "    print('The count is:  ', count)\n",
    "    count = count + 1\n",
    "print('Good bye! count is: ', count)\n",
    "\n"
   ]
  },
  {
   "cell_type": "code",
   "execution_count": 54,
   "id": "8f4669ac",
   "metadata": {},
   "outputs": [],
   "source": [
    "# tup = (1,2,3,4,5,6)\n",
    "\n",
    "# prod =1\n",
    "# index = 0\n",
    "\n",
    "# while(index < len(tup)):\n",
    "#     prod *= tup[index]\n",
    "#     index += 1\n",
    "\n",
    "# print('Product = {}'.format(prod))"
   ]
  },
  {
   "cell_type": "code",
   "execution_count": 60,
   "id": "0790167e",
   "metadata": {},
   "outputs": [
    {
     "name": "stdout",
     "output_type": "stream",
     "text": [
      "LIST ITERATION: \n",
      "10 20 30 40 50 60 \n",
      "TUPLE ITERATION: \n",
      "10 20 30 40 50 60 \n",
      "STRING ITERATION: \n",
      "P y t h o n \n",
      "DICTIONARY ITERATION: \n",
      "xyz 123\n",
      "abc 345\n",
      "My ittarataion:\n",
      "p\n",
      "a\n",
      "v\n",
      "a\n",
      "n\n",
      " \n",
      "n\n",
      "a\n",
      "y\n",
      "a\n",
      "k\n",
      "\n",
      "My ittarataion:\n",
      "p a v a n   n a y a k \n"
     ]
    }
   ],
   "source": [
    "\n",
    "\n",
    "print('LIST ITERATION: ')\n",
    "lst = [10,20,30,40,50,60]\n",
    "for element in lst:\n",
    "    print(element, end=' ')\n",
    "print()\n",
    "\n",
    "print('TUPLE ITERATION: ')\n",
    "tup = (10,20,30,40,50,60)\n",
    "for element in tup:\n",
    "    print(element, end=' ')\n",
    "print()\n",
    "\n",
    "print('STRING ITERATION: ')\n",
    "myStr = 'Python'\n",
    "for element in myStr:\n",
    "    print(element, end=' ')\n",
    "print()\n",
    "\n",
    "print('DICTIONARY ITERATION: ')\n",
    "dict = {}\n",
    "dict['xyz'] = 123\n",
    "dict['abc'] = 345\n",
    "for key in dict:\n",
    "    print(key, dict[key])\n",
    "    \n",
    "    \n",
    "    \n",
    "print(\"My ittarataion:\")\n",
    "my=\"pavan nayak\"\n",
    "for element in my:\n",
    "    print(element)\n",
    "print()\n",
    "\n",
    "    \n",
    "print(\"My ittarataion:\")\n",
    "my=\"pavan nayak\"\n",
    "for element in my:\n",
    "    print(element,end=\" \")\n",
    "print()\n"
   ]
  },
  {
   "cell_type": "code",
   "execution_count": 1,
   "id": "514a00fa",
   "metadata": {},
   "outputs": [
    {
     "data": {
      "text/plain": [
       "[1, 2, 3, 4, 1, 2, 3, 4, 5]"
      ]
     },
     "execution_count": 1,
     "metadata": {},
     "output_type": "execute_result"
    }
   ],
   "source": []
  },
  {
   "cell_type": "code",
   "execution_count": 1,
   "id": "9444f0af",
   "metadata": {},
   "outputs": [],
   "source": [
    "import pandas as pd\n",
    "import numpy as np"
   ]
  },
  {
   "cell_type": "code",
   "execution_count": 64,
   "id": "b722ef00",
   "metadata": {},
   "outputs": [],
   "source": [
    "def  entropy(pos,neg):\n",
    "    total=pos+neg\n",
    "    if pos== 0  or  neg==0:\n",
    "        return  0.0\n",
    "    return  -((((pos/total)*(np.log2(pos/total)))+ ((neg/total)*(np.log2(neg/total)))))\n"
   ]
  },
  {
   "cell_type": "code",
   "execution_count": 69,
   "id": "b2165485",
   "metadata": {},
   "outputs": [
    {
     "data": {
      "text/plain": [
       "0.0"
      ]
     },
     "execution_count": 69,
     "metadata": {},
     "output_type": "execute_result"
    }
   ],
   "source": [
    "entropy()"
   ]
  },
  {
   "cell_type": "code",
   "execution_count": 12,
   "id": "9710b5d9",
   "metadata": {},
   "outputs": [
    {
     "data": {
      "text/plain": [
       "0.9709505944546686"
      ]
     },
     "execution_count": 12,
     "metadata": {},
     "output_type": "execute_result"
    }
   ],
   "source": [
    "entropy()"
   ]
  },
  {
   "cell_type": "code",
   "execution_count": 22,
   "id": "ac1d2bbb",
   "metadata": {},
   "outputs": [
    {
     "data": {
      "text/plain": [
       "0.35714285714285715"
      ]
     },
     "execution_count": 22,
     "metadata": {},
     "output_type": "execute_result"
    }
   ],
   "source": [
    "5/14"
   ]
  },
  {
   "cell_type": "code",
   "execution_count": 16,
   "id": "948bc201",
   "metadata": {},
   "outputs": [
    {
     "data": {
      "text/plain": [
       "0.21734977538987432"
      ]
     },
     "execution_count": 16,
     "metadata": {},
     "output_type": "execute_result"
    }
   ],
   "source": [
    "-0.5305095811322292*(-0.4097)\n"
   ]
  },
  {
   "cell_type": "code",
   "execution_count": 24,
   "id": "8456233a",
   "metadata": {},
   "outputs": [
    {
     "data": {
      "text/plain": [
       "0.94330768"
      ]
     },
     "execution_count": 24,
     "metadata": {},
     "output_type": "execute_result"
    }
   ],
   "source": [
    "-(0.6482*(-0.6374)+0.357*(-1.485))"
   ]
  },
  {
   "cell_type": "code",
   "execution_count": 31,
   "id": "6435bf8d",
   "metadata": {},
   "outputs": [
    {
     "data": {
      "text/plain": [
       "-0.46134566974720237"
      ]
     },
     "execution_count": 31,
     "metadata": {},
     "output_type": "execute_result"
    }
   ],
   "source": [
    "# 3/7 np.log2(3/7)\n",
    "4/7*np.log2(4/7)"
   ]
  },
  {
   "cell_type": "code",
   "execution_count": 39,
   "id": "12f0cd31",
   "metadata": {},
   "outputs": [
    {
     "data": {
      "text/plain": [
       "-1.0057494827954656"
      ]
     },
     "execution_count": 39,
     "metadata": {},
     "output_type": "execute_result"
    }
   ],
   "source": [
    "0.9433-(-0.46134566974720237)+(-0.523795152542668)"
   ]
  },
  {
   "cell_type": "code",
   "execution_count": 47,
   "id": "33c5fdae",
   "metadata": {},
   "outputs": [
    {
     "data": {
      "text/plain": [
       "-0.6374299206152917"
      ]
     },
     "execution_count": 47,
     "metadata": {},
     "output_type": "execute_result"
    }
   ],
   "source": [
    "np.log2(9/14)"
   ]
  },
  {
   "cell_type": "code",
   "execution_count": 50,
   "id": "388a9981",
   "metadata": {},
   "outputs": [
    {
     "data": {
      "text/plain": [
       "-1.222392421336448"
      ]
     },
     "execution_count": 50,
     "metadata": {},
     "output_type": "execute_result"
    }
   ],
   "source": [
    "np.log2(3/7)"
   ]
  },
  {
   "cell_type": "code",
   "execution_count": 57,
   "id": "72c1667f",
   "metadata": {},
   "outputs": [
    {
     "data": {
      "text/plain": [
       "-0.5238824662870492"
      ]
     },
     "execution_count": 57,
     "metadata": {},
     "output_type": "execute_result"
    }
   ],
   "source": [
    "3/7*np.log2(3/7)"
   ]
  },
  {
   "cell_type": "code",
   "execution_count": 59,
   "id": "c1b6493c",
   "metadata": {},
   "outputs": [
    {
     "data": {
      "text/plain": [
       "0.0764306"
      ]
     },
     "execution_count": 59,
     "metadata": {},
     "output_type": "execute_result"
    }
   ],
   "source": [
    "(-0.1906*(-0.4010))"
   ]
  },
  {
   "cell_type": "code",
   "execution_count": 61,
   "id": "5412a317",
   "metadata": {},
   "outputs": [
    {
     "data": {
      "text/plain": [
       "-1.258"
      ]
     },
     "execution_count": 61,
     "metadata": {},
     "output_type": "execute_result"
    }
   ],
   "source": [
    "-0.94-(0.2416+0.0764)"
   ]
  },
  {
   "cell_type": "code",
   "execution_count": 70,
   "id": "d398eac3",
   "metadata": {},
   "outputs": [
    {
     "data": {
      "text/plain": [
       "0.5"
      ]
     },
     "execution_count": 70,
     "metadata": {},
     "output_type": "execute_result"
    }
   ],
   "source": [
    "7"
   ]
  },
  {
   "cell_type": "code",
   "execution_count": 73,
   "id": "338a0c0f",
   "metadata": {},
   "outputs": [
    {
     "data": {
      "text/plain": [
       "(0.35714285714285715, 0.6428571428571429)"
      ]
     },
     "execution_count": 73,
     "metadata": {},
     "output_type": "execute_result"
    }
   ],
   "source": [
    "5/14,9/14"
   ]
  },
  {
   "cell_type": "code",
   "execution_count": 96,
   "id": "738f38e9",
   "metadata": {},
   "outputs": [
    {
     "ename": "NameError",
     "evalue": "name 'df' is not defined",
     "output_type": "error",
     "traceback": [
      "\u001b[1;31m---------------------------------------------------------------------------\u001b[0m",
      "\u001b[1;31mNameError\u001b[0m                                 Traceback (most recent call last)",
      "\u001b[1;32m~\\AppData\\Local\\Temp/ipykernel_5100/1396537375.py\u001b[0m in \u001b[0;36m<module>\u001b[1;34m\u001b[0m\n\u001b[1;32m----> 1\u001b[1;33m \u001b[0mdf\u001b[0m\u001b[1;33m\u001b[0m\u001b[1;33m\u001b[0m\u001b[0m\n\u001b[0m",
      "\u001b[1;31mNameError\u001b[0m: name 'df' is not defined"
     ]
    }
   ],
   "source": [
    "df"
   ]
  },
  {
   "cell_type": "code",
   "execution_count": 77,
   "id": "15bbc29c",
   "metadata": {},
   "outputs": [],
   "source": [
    "import numpy"
   ]
  },
  {
   "cell_type": "code",
   "execution_count": 82,
   "id": "0880c5bd",
   "metadata": {},
   "outputs": [
    {
     "data": {
      "text/plain": [
       "1.584962500721156"
      ]
     },
     "execution_count": 82,
     "metadata": {},
     "output_type": "execute_result"
    }
   ],
   "source": [
    "np.log2(3)"
   ]
  },
  {
   "cell_type": "code",
   "execution_count": 95,
   "id": "2ec8851a",
   "metadata": {},
   "outputs": [
    {
     "data": {
      "text/plain": [
       "1.1699250014423124"
      ]
     },
     "execution_count": 95,
     "metadata": {},
     "output_type": "execute_result"
    }
   ],
   "source": [
    "np.log2(9/4)"
   ]
  },
  {
   "cell_type": "code",
   "execution_count": null,
   "id": "429934ec",
   "metadata": {},
   "outputs": [],
   "source": []
  }
 ],
 "metadata": {
  "kernelspec": {
   "display_name": "Python 3 (ipykernel)",
   "language": "python",
   "name": "python3"
  },
  "language_info": {
   "codemirror_mode": {
    "name": "ipython",
    "version": 3
   },
   "file_extension": ".py",
   "mimetype": "text/x-python",
   "name": "python",
   "nbconvert_exporter": "python",
   "pygments_lexer": "ipython3",
   "version": "3.9.13"
  }
 },
 "nbformat": 4,
 "nbformat_minor": 5
}
