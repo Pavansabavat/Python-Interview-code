{
 "cells": [
  {
   "cell_type": "code",
   "execution_count": 1,
   "id": "2a9d2a0c",
   "metadata": {},
   "outputs": [
    {
     "name": "stdout",
     "output_type": "stream",
     "text": [
      "[1, 4, 9, 16, 25]\n"
     ]
    }
   ],
   "source": [
    "# List containing the square of first 5 numbers\n",
    "lst=[]\n",
    "for i in range(1,6):\n",
    "    lst.append(i**2)\n",
    "print(lst)"
   ]
  },
  {
   "cell_type": "code",
   "execution_count": 3,
   "id": "a78fcb5f",
   "metadata": {},
   "outputs": [
    {
     "name": "stdout",
     "output_type": "stream",
     "text": [
      "[1, 4, 9, 16, 25]\n"
     ]
    }
   ],
   "source": [
    "# Lets try the above code using list comprehension\n",
    "\n",
    "lst=[i**2 for i in range(1,6)]\n",
    "print(lst)\n",
    "\n",
    "\n",
    "# SYNTAX : lst = [ expression for i in sequence ]\n",
    "# i.e. for every 'i' in the 'sequence' apply the 'expression'\n",
    "# and add that 'expression' value to the lst"
   ]
  },
  {
   "cell_type": "code",
   "execution_count": 6,
   "id": "3dabb210",
   "metadata": {},
   "outputs": [
    {
     "name": "stdout",
     "output_type": "stream",
     "text": [
      "['p', 'a', 'v', 'a', 'n', ' ', 'K', 'u', 'm', 'a', 'r']\n"
     ]
    }
   ],
   "source": [
    "lst=[w for w in 'pavan Kumar']\n",
    "print(lst)"
   ]
  },
  {
   "cell_type": "code",
   "execution_count": 7,
   "id": "c111a190",
   "metadata": {},
   "outputs": [
    {
     "name": "stdout",
     "output_type": "stream",
     "text": [
      "[1, 4, 9, 16, 25, 36, 49, 64, 81, 100, 121, 144, 169, 196, 225, 256, 289, 324, 361, 400, 441, 484, 529, 576]\n"
     ]
    }
   ],
   "source": [
    "lst=[i**2 for i in range(1,25)]\n",
    "print(lst)"
   ]
  },
  {
   "cell_type": "code",
   "execution_count": 11,
   "id": "6b5e0f0d",
   "metadata": {},
   "outputs": [
    {
     "name": "stdout",
     "output_type": "stream",
     "text": [
      "[4, 16, 36, 64, 100, 144, 196, 256, 324, 400, 484, 576]\n"
     ]
    }
   ],
   "source": [
    "lst=[i**2 for i in range(1,25) if i%2==0]\n",
    "print(lst)"
   ]
  },
  {
   "cell_type": "code",
   "execution_count": 22,
   "id": "f95d8631",
   "metadata": {},
   "outputs": [
    {
     "name": "stdout",
     "output_type": "stream",
     "text": [
      "[9, 81, 225, 441, 729, 1089, 1521, 2025, 2601, 3249, 3969, 4761, 5625, 6561, 7569, 8649, 9801, 11025, 12321, 13689, 15129]\n"
     ]
    }
   ],
   "source": [
    "lst=[i**2 for  i in range(1,125,2)if i%3==0]\n",
    "print(lst)"
   ]
  },
  {
   "cell_type": "code",
   "execution_count": 30,
   "id": "2aeb926d",
   "metadata": {},
   "outputs": [
    {
     "name": "stdout",
     "output_type": "stream",
     "text": [
      "['P', 'K', 'N', 'M', 'S']\n"
     ]
    }
   ],
   "source": [
    "super_hero=['Pavan','Kumar','Noel','Muniya','Sanmitha']\n",
    "lst=[word[0]  for word  in super_hero]\n",
    "print(lst)"
   ]
  },
  {
   "cell_type": "code",
   "execution_count": 35,
   "id": "bc980d3b",
   "metadata": {},
   "outputs": [
    {
     "name": "stdout",
     "output_type": "stream",
     "text": [
      "[['THE', 3], ['ICE_CEAM', 8], ['IS', 2], ['BLUE', 4], ['AND', 3], ['COLOUR', 6], ['IS', 2], ['WHITE', 5], ['UPON', 4], ['BROWN', 5]]\n"
     ]
    }
   ],
   "source": [
    "s='the ice_ceam is  blue  and  colour  is  white  upon  brown'\n",
    "lst=[[word.upper(),len(word)] for word in s.split()]\n",
    "print(lst)"
   ]
  },
  {
   "cell_type": "code",
   "execution_count": 39,
   "id": "3b04f837",
   "metadata": {},
   "outputs": [],
   "source": [
    "# s='the ice_ceam is  blue  and  colour  is  white  upon  brown'\n",
    "# lst=[[word.lower(),len(word)] for word in s.split()]\n",
    "# print(lst)"
   ]
  },
  {
   "cell_type": "markdown",
   "id": "2f18f108",
   "metadata": {},
   "source": [
    "## Anonymus Function"
   ]
  },
  {
   "cell_type": "code",
   "execution_count": 41,
   "id": "28a7f476",
   "metadata": {},
   "outputs": [
    {
     "name": "stdout",
     "output_type": "stream",
     "text": [
      "25\n"
     ]
    }
   ],
   "source": [
    "def square(n):\n",
    "    return n*n\n",
    "print(square(5)) "
   ]
  },
  {
   "cell_type": "code",
   "execution_count": 48,
   "id": "5ed31c05",
   "metadata": {},
   "outputs": [
    {
     "name": "stdout",
     "output_type": "stream",
     "text": [
      "25\n"
     ]
    }
   ],
   "source": [
    "lam=lambda x:x*x\n",
    "print(lam(5))"
   ]
  },
  {
   "cell_type": "code",
   "execution_count": 49,
   "id": "7a260207",
   "metadata": {},
   "outputs": [
    {
     "name": "stdout",
     "output_type": "stream",
     "text": [
      "6\n"
     ]
    }
   ],
   "source": [
    "# Product of two numbers\n",
    "prod = lambda a, b : a*b\n",
    "print(prod(2,3))"
   ]
  },
  {
   "cell_type": "code",
   "execution_count": 50,
   "id": "dd2b48d3",
   "metadata": {},
   "outputs": [
    {
     "name": "stdout",
     "output_type": "stream",
     "text": [
      "6\n"
     ]
    }
   ],
   "source": [
    "# Larger of two numbers\n",
    "\n",
    "# a>b?a:b\n",
    "# a if a>b else b\n",
    "\n",
    "greater = lambda a,b : a if a>b else b\n",
    "\n",
    "print(greater(2,6))"
   ]
  },
  {
   "cell_type": "code",
   "execution_count": 59,
   "id": "02b278f4",
   "metadata": {},
   "outputs": [],
   "source": [
    "lst=[i for  i in range(1,20)]"
   ]
  },
  {
   "cell_type": "code",
   "execution_count": 63,
   "id": "f615175f",
   "metadata": {},
   "outputs": [
    {
     "name": "stdout",
     "output_type": "stream",
     "text": [
      "[0, 2, 4, 6, 8, 10]\n"
     ]
    }
   ],
   "source": [
    "f=list(filter(lambda x:x%2==0,lst))\n",
    "print(f)"
   ]
  },
  {
   "cell_type": "code",
   "execution_count": 62,
   "id": "1c5f3407",
   "metadata": {},
   "outputs": [
    {
     "name": "stdout",
     "output_type": "stream",
     "text": [
      "[0, 2, 4, 6, 8, 10]\n"
     ]
    }
   ],
   "source": [
    "def isEven(x):\n",
    "    if x%2==0:\n",
    "        return True\n",
    "    else:\n",
    "        return False\n",
    "    \n",
    "\n",
    "lst = [0,1,2,3,4,5,6,7,8,9,10]\n",
    "\n",
    "f = list(filter(isEven, lst))\n",
    "\n",
    "print(f)"
   ]
  },
  {
   "cell_type": "code",
   "execution_count": 65,
   "id": "330c37e0",
   "metadata": {},
   "outputs": [
    {
     "name": "stdout",
     "output_type": "stream",
     "text": [
      "[2, 4, 6, 8, 10]\n"
     ]
    }
   ],
   "source": [
    "def double(x):\n",
    "    return 2*x\n",
    "\n",
    "lst = [1, 2, 3, 4, 5]\n",
    "d = list(map(double, lst))\n",
    "\n",
    "print(d)"
   ]
  },
  {
   "cell_type": "code",
   "execution_count": 67,
   "id": "d74ed74c",
   "metadata": {},
   "outputs": [
    {
     "name": "stdout",
     "output_type": "stream",
     "text": [
      "[12, 14, 16, 18, 20]\n"
     ]
    }
   ],
   "source": [
    "lst = [6, 7, 8, 9, 10]\n",
    "d = list(map(lambda x : 2*x, lst))\n",
    "\n",
    "print(d)"
   ]
  },
  {
   "cell_type": "code",
   "execution_count": 68,
   "id": "193b84b7",
   "metadata": {},
   "outputs": [
    {
     "name": "stdout",
     "output_type": "stream",
     "text": [
      "[4, 10, 18]\n"
     ]
    }
   ],
   "source": [
    "# multiply two lists element wise\n",
    "\n",
    "lst_1 = [1, 2, 3, 10]\n",
    "lst_2 = [4, 5, 6]\n",
    "\n",
    "lst_3 = list(map(lambda x, y : x*y, lst_1, lst_2))\n",
    "\n",
    "print(lst_3)"
   ]
  },
  {
   "cell_type": "code",
   "execution_count": 69,
   "id": "175de1f7",
   "metadata": {},
   "outputs": [],
   "source": [
    "# reduce() function reduces sequence of elements into a single \n",
    "# element by applying the specified function.\n",
    "\n",
    "# reduce() function present in functools module"
   ]
  },
  {
   "cell_type": "code",
   "execution_count": 70,
   "id": "5b40ad4a",
   "metadata": {},
   "outputs": [
    {
     "name": "stdout",
     "output_type": "stream",
     "text": [
      "28\n"
     ]
    }
   ],
   "source": [
    "from functools import *\n",
    "\n",
    "lst = [1, 2, 3, 4, 5, 6, 7]\n",
    "\n",
    "r = reduce(lambda x,y : x+y, lst)\n",
    "\n",
    "print(r)"
   ]
  },
  {
   "cell_type": "markdown",
   "id": "8a02914f",
   "metadata": {},
   "source": [
    "## Function Aliasing\n"
   ]
  },
  {
   "cell_type": "code",
   "execution_count": 71,
   "id": "6a97c938",
   "metadata": {},
   "outputs": [
    {
     "name": "stdout",
     "output_type": "stream",
     "text": [
      "25\n",
      "36\n"
     ]
    }
   ],
   "source": [
    "\n",
    "\n",
    "def sq(n):\n",
    "    return n*n\n",
    "\n",
    "new_sq = sq\n",
    "\n",
    "print(new_sq(5))\n",
    "\n",
    "print(sq(6))\n",
    "\n"
   ]
  },
  {
   "cell_type": "code",
   "execution_count": 72,
   "id": "af073e44",
   "metadata": {},
   "outputs": [
    {
     "name": "stdout",
     "output_type": "stream",
     "text": [
      "Hello World!!\n"
     ]
    }
   ],
   "source": [
    "def fun():\n",
    "    return 'Hello World!!'\n",
    "\n",
    "# What is the difference between following lines?\n",
    "\n",
    "# f1 = fun\n",
    "f1 = fun()\n",
    "print(f1)"
   ]
  },
  {
   "cell_type": "code",
   "execution_count": 73,
   "id": "7e3e7eff",
   "metadata": {},
   "outputs": [
    {
     "name": "stdout",
     "output_type": "stream",
     "text": [
      "5 6\n",
      "6 5\n"
     ]
    }
   ],
   "source": [
    "# Swapping Using extra variable\n",
    "\n",
    "a = 5\n",
    "b = 6\n",
    "print(a, b)\n",
    "\n",
    "c = a\n",
    "\n",
    "a = b\n",
    "b = c\n",
    "\n",
    "print(a, b)"
   ]
  },
  {
   "cell_type": "code",
   "execution_count": 74,
   "id": "94ae7f53",
   "metadata": {},
   "outputs": [
    {
     "name": "stdout",
     "output_type": "stream",
     "text": [
      "5 6\n",
      "6 5\n"
     ]
    }
   ],
   "source": [
    "# Swapping by using 2 varibales and arithmatic operation\n",
    "a = 5\n",
    "b = 6\n",
    "print(a, b)\n",
    "\n",
    "a = a + b\n",
    "b = a - b\n",
    "a = a - b\n",
    "\n",
    "print(a, b)"
   ]
  },
  {
   "cell_type": "code",
   "execution_count": 75,
   "id": "e512b126",
   "metadata": {},
   "outputs": [
    {
     "name": "stdout",
     "output_type": "stream",
     "text": [
      "5 6\n",
      "6 5\n"
     ]
    }
   ],
   "source": [
    "# Swapping by using 2 varibales and bitwise operation\n",
    "\n",
    "a = 5\n",
    "b = 6\n",
    "print(a, b)\n",
    "\n",
    "a = a ^ b\n",
    "b = a ^ b\n",
    "a = a ^ b\n",
    "\n",
    "print(a, b)"
   ]
  },
  {
   "cell_type": "code",
   "execution_count": 76,
   "id": "b7720764",
   "metadata": {},
   "outputs": [
    {
     "name": "stdout",
     "output_type": "stream",
     "text": [
      "5 6\n",
      "6 5\n"
     ]
    }
   ],
   "source": [
    "# Swapping using 2 variables\n",
    "\n",
    "a = 5\n",
    "b = 6\n",
    "\n",
    "print(a, b)\n",
    "\n",
    "a, b = b, a\n",
    "\n",
    "print(a, b)"
   ]
  },
  {
   "cell_type": "markdown",
   "id": "19609bdb",
   "metadata": {},
   "source": [
    "## Factorial of a number\n"
   ]
  },
  {
   "cell_type": "code",
   "execution_count": 78,
   "id": "1aff9ec4",
   "metadata": {},
   "outputs": [],
   "source": [
    "# 5! = 5 * 4 * 3 * 2 * 1\n",
    "\n",
    "# 5! = 1 * 2 * 3 * 4 * 5"
   ]
  },
  {
   "cell_type": "code",
   "execution_count": 79,
   "id": "9b4950cd",
   "metadata": {},
   "outputs": [
    {
     "name": "stdout",
     "output_type": "stream",
     "text": [
      "5\n",
      "120\n"
     ]
    }
   ],
   "source": [
    "import math\n",
    "\n",
    "user_input = int(input())\n",
    "print(math.factorial(user_input))"
   ]
  },
  {
   "cell_type": "code",
   "execution_count": 80,
   "id": "7ce018bf",
   "metadata": {},
   "outputs": [
    {
     "name": "stdout",
     "output_type": "stream",
     "text": [
      "5\n",
      "120\n"
     ]
    }
   ],
   "source": [
    "# Implementing Factorial using for loop\n",
    "\n",
    "user_input = int(input())\n",
    "output = 1\n",
    "\n",
    "for i in range(1, user_input + 1):\n",
    "    output = output * i\n",
    "    \n",
    "print(output)"
   ]
  },
  {
   "cell_type": "markdown",
   "id": "14abe42b",
   "metadata": {},
   "source": [
    "## Prime Number\n"
   ]
  },
  {
   "cell_type": "code",
   "execution_count": 82,
   "id": "d64dfb48",
   "metadata": {},
   "outputs": [
    {
     "name": "stdout",
     "output_type": "stream",
     "text": [
      "Enter a Number: 1000003\n",
      "Prime\n"
     ]
    }
   ],
   "source": [
    "# Normal Program - Takes a lot of time\n",
    "\n",
    "num = int(input(\"Enter a Number: \"))\n",
    "factors = 0\n",
    "\n",
    "for i in range(1, num+1):\n",
    "    if num % i == 0:\n",
    "        factors += 1\n",
    "\n",
    "if factors == 2:\n",
    "    print('Prime')\n",
    "else:\n",
    "    print('Not Prime')"
   ]
  },
  {
   "cell_type": "code",
   "execution_count": 83,
   "id": "0e9c4457",
   "metadata": {},
   "outputs": [
    {
     "name": "stdout",
     "output_type": "stream",
     "text": [
      "Enter a Number: 100000\n",
      "Not Prime\n"
     ]
    }
   ],
   "source": [
    "# Return not prime as soon as you encounter first factor\n",
    "\n",
    "num = int(input('Enter a Number: '))\n",
    "factors = 0\n",
    "\n",
    "for i in range(2, num):\n",
    "    if num % i == 0:\n",
    "        factors += 1\n",
    "        print('Not Prime')\n",
    "        break\n",
    "\n",
    "if factors == 0:\n",
    "    print('Prime')"
   ]
  },
  {
   "cell_type": "code",
   "execution_count": 84,
   "id": "96b43570",
   "metadata": {},
   "outputs": [
    {
     "name": "stdout",
     "output_type": "stream",
     "text": [
      "Enter a Number: 100000\n",
      "Not Prime\n"
     ]
    }
   ],
   "source": [
    "# Reducing the search space to half (try to handle test case = 1)\n",
    "\n",
    "num = int(input('Enter a Number: '))\n",
    "factors = 0\n",
    "\n",
    "for i in range(2, int(num/2)):\n",
    "    if num % i == 0 or num == 1:\n",
    "        factors += 1\n",
    "        print('Not Prime')\n",
    "        break\n",
    "\n",
    "if factors == 0:\n",
    "    print('Prime')"
   ]
  },
  {
   "cell_type": "code",
   "execution_count": 85,
   "id": "57002326",
   "metadata": {},
   "outputs": [
    {
     "name": "stdout",
     "output_type": "stream",
     "text": [
      "Enter a Number: 11\n",
      "Prime\n"
     ]
    }
   ],
   "source": [
    "# Further reducing the search space (Observe how fast your code works now)\n",
    "\n",
    "num = int(input('Enter a Number: '))\n",
    "factors = 0\n",
    "\n",
    "for i in range(2, int(num**0.5) + 1):\n",
    "    if num % i == 0:\n",
    "        factors += 1\n",
    "        print('Not Prime')\n",
    "        break\n",
    "\n",
    "if factors == 0:\n",
    "    print('Prime')"
   ]
  },
  {
   "cell_type": "markdown",
   "id": "a1b864b3",
   "metadata": {},
   "source": [
    "## Fibbonnacci Sequence\n"
   ]
  },
  {
   "cell_type": "code",
   "execution_count": 87,
   "id": "aa5cf7f3",
   "metadata": {},
   "outputs": [
    {
     "name": "stdout",
     "output_type": "stream",
     "text": [
      "10\n",
      "[0, 1, 1, 2, 3, 5, 8, 13, 21, 34]\n"
     ]
    }
   ],
   "source": [
    "n = int(input())\n",
    "\n",
    "lst = [0, 1]\n",
    "\n",
    "for i in range(2, n):\n",
    "    lst.append(lst[i-1] + lst[i-2])\n",
    "    \n",
    "print(lst)"
   ]
  },
  {
   "cell_type": "code",
   "execution_count": 88,
   "id": "087c08dd",
   "metadata": {},
   "outputs": [
    {
     "name": "stdout",
     "output_type": "stream",
     "text": [
      "10\n",
      "0 1 1 2 3 5 8 13 21 34 "
     ]
    }
   ],
   "source": [
    "n = int(input())\n",
    "\n",
    "a = 0\n",
    "b = 1\n",
    "\n",
    "print(a, b, end = \" \")\n",
    "\n",
    "for i in range(n-2):\n",
    "    c = a + b\n",
    "    print(c, end = \" \")\n",
    "    a = b\n",
    "    b = c"
   ]
  },
  {
   "cell_type": "markdown",
   "id": "823f838a",
   "metadata": {},
   "source": [
    "## Armstrong Number - A number is equal to sum of cube of its digit. 153, 370, 371, etc\n"
   ]
  },
  {
   "cell_type": "code",
   "execution_count": 90,
   "id": "78d9a64a",
   "metadata": {},
   "outputs": [
    {
     "name": "stdout",
     "output_type": "stream",
     "text": [
      "323\n",
      "no\n"
     ]
    }
   ],
   "source": [
    "num = int(input())\n",
    "num_copy = num\n",
    "out = 0\n",
    "\n",
    "while num > 0:\n",
    "    rem = num % 10\n",
    "    out = out + (rem ** 3)\n",
    "    num = num // 10\n",
    "    \n",
    "if(num_copy == out):\n",
    "    print(\"Yes\")\n",
    "else:\n",
    "    print(\"no\")"
   ]
  },
  {
   "cell_type": "code",
   "execution_count": 91,
   "id": "9bbd389b",
   "metadata": {},
   "outputs": [],
   "source": [
    "def arm_generator(num):\n",
    "    num_copy = num\n",
    "    out = 0\n",
    "\n",
    "    while num > 0:\n",
    "        rem = num % 10\n",
    "        out = out + (rem ** 3)\n",
    "        num = num // 10\n",
    "\n",
    "    if(num_copy == out):\n",
    "        return 1\n",
    "    else:\n",
    "        return 0"
   ]
  },
  {
   "cell_type": "code",
   "execution_count": 92,
   "id": "fcbb6c42",
   "metadata": {},
   "outputs": [
    {
     "name": "stdout",
     "output_type": "stream",
     "text": [
      "[1, 153, 370, 371, 407]\n",
      "[2, 3, 4, 5, 6, 7, 8, 9, 10, 11, 12, 13, 14, 15, 16, 17, 18, 19, 20, 21, 22, 23, 24, 25, 26, 27, 28, 29, 30, 31, 32, 33, 34, 35, 36, 37, 38, 39, 40, 41, 42, 43, 44, 45, 46, 47, 48, 49, 50, 51, 52, 53, 54, 55, 56, 57, 58, 59, 60, 61, 62, 63, 64, 65, 66, 67, 68, 69, 70, 71, 72, 73, 74, 75, 76, 77, 78, 79, 80, 81, 82, 83, 84, 85, 86, 87, 88, 89, 90, 91, 92, 93, 94, 95, 96, 97, 98, 99, 100, 101, 102, 103, 104, 105, 106, 107, 108, 109, 110, 111, 112, 113, 114, 115, 116, 117, 118, 119, 120, 121, 122, 123, 124, 125, 126, 127, 128, 129, 130, 131, 132, 133, 134, 135, 136, 137, 138, 139, 140, 141, 142, 143, 144, 145, 146, 147, 148, 149, 150, 151, 152, 154, 155, 156, 157, 158, 159, 160, 161, 162, 163, 164, 165, 166, 167, 168, 169, 170, 171, 172, 173, 174, 175, 176, 177, 178, 179, 180, 181, 182, 183, 184, 185, 186, 187, 188, 189, 190, 191, 192, 193, 194, 195, 196, 197, 198, 199, 200, 201, 202, 203, 204, 205, 206, 207, 208, 209, 210, 211, 212, 213, 214, 215, 216, 217, 218, 219, 220, 221, 222, 223, 224, 225, 226, 227, 228, 229, 230, 231, 232, 233, 234, 235, 236, 237, 238, 239, 240, 241, 242, 243, 244, 245, 246, 247, 248, 249, 250, 251, 252, 253, 254, 255, 256, 257, 258, 259, 260, 261, 262, 263, 264, 265, 266, 267, 268, 269, 270, 271, 272, 273, 274, 275, 276, 277, 278, 279, 280, 281, 282, 283, 284, 285, 286, 287, 288, 289, 290, 291, 292, 293, 294, 295, 296, 297, 298, 299, 300, 301, 302, 303, 304, 305, 306, 307, 308, 309, 310, 311, 312, 313, 314, 315, 316, 317, 318, 319, 320, 321, 322, 323, 324, 325, 326, 327, 328, 329, 330, 331, 332, 333, 334, 335, 336, 337, 338, 339, 340, 341, 342, 343, 344, 345, 346, 347, 348, 349, 350, 351, 352, 353, 354, 355, 356, 357, 358, 359, 360, 361, 362, 363, 364, 365, 366, 367, 368, 369, 372, 373, 374, 375, 376, 377, 378, 379, 380, 381, 382, 383, 384, 385, 386, 387, 388, 389, 390, 391, 392, 393, 394, 395, 396, 397, 398, 399, 400, 401, 402, 403, 404, 405, 406, 408, 409, 410, 411, 412, 413, 414, 415, 416, 417, 418, 419, 420, 421, 422, 423, 424, 425, 426, 427, 428, 429, 430, 431, 432, 433, 434, 435, 436, 437, 438, 439, 440, 441, 442, 443, 444, 445, 446, 447, 448, 449, 450, 451, 452, 453, 454, 455, 456, 457, 458, 459, 460, 461, 462, 463, 464, 465, 466, 467, 468, 469, 470, 471, 472, 473, 474, 475, 476, 477, 478, 479, 480, 481, 482, 483, 484, 485, 486, 487, 488, 489, 490, 491, 492, 493, 494, 495, 496, 497, 498, 499, 500, 501, 502, 503, 504, 505, 506, 507, 508, 509, 510, 511, 512, 513, 514, 515, 516, 517, 518, 519, 520, 521, 522, 523, 524, 525, 526, 527, 528, 529, 530, 531, 532, 533, 534, 535, 536, 537, 538, 539, 540, 541, 542, 543, 544, 545, 546, 547, 548, 549, 550, 551, 552, 553, 554, 555, 556, 557, 558, 559, 560, 561, 562, 563, 564, 565, 566, 567, 568, 569, 570, 571, 572, 573, 574, 575, 576, 577, 578, 579, 580, 581, 582, 583, 584, 585, 586, 587, 588, 589, 590, 591, 592, 593, 594, 595, 596, 597, 598, 599, 600, 601, 602, 603, 604, 605, 606, 607, 608, 609, 610, 611, 612, 613, 614, 615, 616, 617, 618, 619, 620, 621, 622, 623, 624, 625, 626, 627, 628, 629, 630, 631, 632, 633, 634, 635, 636, 637, 638, 639, 640, 641, 642, 643, 644, 645, 646, 647, 648, 649, 650, 651, 652, 653, 654, 655, 656, 657, 658, 659, 660, 661, 662, 663, 664, 665, 666, 667, 668, 669, 670, 671, 672, 673, 674, 675, 676, 677, 678, 679, 680, 681, 682, 683, 684, 685, 686, 687, 688, 689, 690, 691, 692, 693, 694, 695, 696, 697, 698, 699, 700, 701, 702, 703, 704, 705, 706, 707, 708, 709, 710, 711, 712, 713, 714, 715, 716, 717, 718, 719, 720, 721, 722, 723, 724, 725, 726, 727, 728, 729, 730, 731, 732, 733, 734, 735, 736, 737, 738, 739, 740, 741, 742, 743, 744, 745, 746, 747, 748, 749, 750, 751, 752, 753, 754, 755, 756, 757, 758, 759, 760, 761, 762, 763, 764, 765, 766, 767, 768, 769, 770, 771, 772, 773, 774, 775, 776, 777, 778, 779, 780, 781, 782, 783, 784, 785, 786, 787, 788, 789, 790, 791, 792, 793, 794, 795, 796, 797, 798, 799, 800, 801, 802, 803, 804, 805, 806, 807, 808, 809, 810, 811, 812, 813, 814, 815, 816, 817, 818, 819, 820, 821, 822, 823, 824, 825, 826, 827, 828, 829, 830, 831, 832, 833, 834, 835, 836, 837, 838, 839, 840, 841, 842, 843, 844, 845, 846, 847, 848, 849, 850, 851, 852, 853, 854, 855, 856, 857, 858, 859, 860, 861, 862, 863, 864, 865, 866, 867, 868, 869, 870, 871, 872, 873, 874, 875, 876, 877, 878, 879, 880, 881, 882, 883, 884, 885, 886, 887, 888, 889, 890, 891, 892, 893, 894, 895, 896, 897, 898, 899, 900, 901, 902, 903, 904, 905, 906, 907, 908, 909, 910, 911, 912, 913, 914, 915, 916, 917, 918, 919, 920, 921, 922, 923, 924, 925, 926, 927, 928, 929, 930, 931, 932, 933, 934, 935, 936, 937, 938, 939, 940, 941, 942, 943, 944, 945, 946, 947, 948, 949, 950, 951, 952, 953, 954, 955, 956, 957, 958, 959, 960, 961, 962, 963, 964, 965, 966, 967, 968, 969, 970, 971, 972, 973, 974, 975, 976, 977, 978, 979, 980, 981, 982, 983, 984, 985, 986, 987, 988, 989, 990, 991, 992, 993, 994, 995, 996, 997, 998, 999, 1000]\n"
     ]
    }
   ],
   "source": [
    "arm_lst = []\n",
    "not_arm_lst = []\n",
    "for i in range (1, 1001):\n",
    "    if (arm_generator(i) == 1):\n",
    "        arm_lst.append(i)\n",
    "    else:\n",
    "        not_arm_lst.append(i)\n",
    "        \n",
    "print(arm_lst)\n",
    "\n",
    "print(not_arm_lst)"
   ]
  },
  {
   "cell_type": "markdown",
   "id": "ac2ecbeb",
   "metadata": {},
   "source": [
    "## Reverse a list\n"
   ]
  },
  {
   "cell_type": "code",
   "execution_count": 93,
   "id": "bb1041c7",
   "metadata": {},
   "outputs": [
    {
     "name": "stdout",
     "output_type": "stream",
     "text": [
      "[5, 14, 3, 2, 10]\n"
     ]
    }
   ],
   "source": [
    "# By using a new list variable\n",
    "\n",
    "in_lst = [10, 2, 3, 14, 5]\n",
    "\n",
    "out_lst = []\n",
    "\n",
    "for i in range(len(in_lst)):\n",
    "    out_lst.append(in_lst[len(in_lst) - 1 - i])\n",
    "    \n",
    "print(out_lst)"
   ]
  },
  {
   "cell_type": "code",
   "execution_count": 97,
   "id": "a3ab2190",
   "metadata": {},
   "outputs": [
    {
     "name": "stdout",
     "output_type": "stream",
     "text": [
      "[3,3,4,5,6]\n",
      "[6, 5, 4, 3, 3]\n"
     ]
    }
   ],
   "source": [
    "# Using swapping concept\n",
    "\n",
    "in_list = eval(input())\n",
    "for i in range(len(in_list)//2):\n",
    "    temp = in_list[i]\n",
    "    in_list[i] = in_list[len(in_list)-1-i]\n",
    "    in_list[len(in_list)-1-i] = temp\n",
    "print(in_list)"
   ]
  },
  {
   "cell_type": "code",
   "execution_count": 98,
   "id": "68ad5641",
   "metadata": {},
   "outputs": [
    {
     "name": "stdout",
     "output_type": "stream",
     "text": [
      "[3, 2, 3, 1, 4]\n"
     ]
    }
   ],
   "source": [
    "# Without using any extra variable (in place)\n",
    "\n",
    "a = [4,1,3,2,3]\n",
    "for i in range(int(len(a)/2)):\n",
    "    a[i], a[(len(a)-1)-i] = a[(len(a)-1)-i], a[i]\n",
    "print(a)"
   ]
  },
  {
   "cell_type": "markdown",
   "id": "49394c46",
   "metadata": {},
   "source": [
    "## Palindrome number\n"
   ]
  },
  {
   "cell_type": "code",
   "execution_count": 101,
   "id": "6079db21",
   "metadata": {},
   "outputs": [
    {
     "name": "stdout",
     "output_type": "stream",
     "text": [
      "'madam'\n",
      "Palindrome\n"
     ]
    }
   ],
   "source": [
    "in_str = eval(input())\n",
    "flag = 1\n",
    "\n",
    "for i in range(len(in_str)//2):\n",
    "    if(in_str[i] == in_str[len(in_str) - 1 - i]):\n",
    "        continue\n",
    "    else:\n",
    "        flag = 0\n",
    "        break\n",
    "\n",
    "if(flag == 1):\n",
    "    print(\"Palindrome\")\n",
    "    \n",
    "else:\n",
    "    print(\"Not Palindrome\")"
   ]
  },
  {
   "cell_type": "code",
   "execution_count": 103,
   "id": "f6811aac",
   "metadata": {},
   "outputs": [],
   "source": [
    "# # logic\n",
    "# # 123 -> 3 -> mod %\n",
    "# # 123 -> 12\n",
    "\n",
    "# reverse_num = 3 * 10 + rem\n",
    "\n",
    "# rem = original_num % 10\n",
    "# original_num = original_num // 10\n",
    "# reverse_num = reverse_num * 10 + rem"
   ]
  },
  {
   "cell_type": "code",
   "execution_count": 104,
   "id": "e702dd62",
   "metadata": {},
   "outputs": [
    {
     "name": "stdout",
     "output_type": "stream",
     "text": [
      "Enter a Number: 31323\n",
      "31323\n",
      "32313\n",
      "Not Palindrome\n"
     ]
    }
   ],
   "source": [
    "original_num = int(input(\"Enter a Number: \"))\n",
    "copy_original_num = original_num\n",
    "\n",
    "reverse_num = 0\n",
    "\n",
    "# logic\n",
    "while original_num > 0:\n",
    "    rem = original_num % 10\n",
    "    original_num = original_num // 10\n",
    "    reverse_num = reverse_num * 10 + rem\n",
    "\n",
    "print(copy_original_num)\n",
    "print(reverse_num)\n",
    "\n",
    "if(copy_original_num == reverse_num):\n",
    "    print(\"Palindrome\")\n",
    "else:\n",
    "    print(\"Not Palindrome\")"
   ]
  },
  {
   "cell_type": "code",
   "execution_count": null,
   "id": "a03c2c41",
   "metadata": {},
   "outputs": [],
   "source": []
  }
 ],
 "metadata": {
  "kernelspec": {
   "display_name": "Python 3 (ipykernel)",
   "language": "python",
   "name": "python3"
  },
  "language_info": {
   "codemirror_mode": {
    "name": "ipython",
    "version": 3
   },
   "file_extension": ".py",
   "mimetype": "text/x-python",
   "name": "python",
   "nbconvert_exporter": "python",
   "pygments_lexer": "ipython3",
   "version": "3.9.13"
  }
 },
 "nbformat": 4,
 "nbformat_minor": 5
}
