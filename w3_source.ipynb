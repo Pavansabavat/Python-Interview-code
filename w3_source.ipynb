{
  "nbformat": 4,
  "nbformat_minor": 0,
  "metadata": {
    "colab": {
      "provenance": [],
      "authorship_tag": "ABX9TyPCbtSwY8Ju893RcKfFoeeC",
      "include_colab_link": true
    },
    "kernelspec": {
      "name": "python3",
      "display_name": "Python 3"
    },
    "language_info": {
      "name": "python"
    }
  },
  "cells": [
    {
      "cell_type": "markdown",
      "metadata": {
        "id": "view-in-github",
        "colab_type": "text"
      },
      "source": [
        "<a href=\"https://colab.research.google.com/github/Pavansabavat/Python-Interview-code/blob/main/w3_source.ipynb\" target=\"_parent\"><img src=\"https://colab.research.google.com/assets/colab-badge.svg\" alt=\"Open In Colab\"/></a>"
      ]
    },
    {
      "cell_type": "markdown",
      "source": [
        "Ordinal Number Encoding\n"
      ],
      "metadata": {
        "id": "-kjPHv3i8rl9"
      }
    },
    {
      "cell_type": "code",
      "source": [
        "import datetime"
      ],
      "metadata": {
        "id": "2ZS36n3-8xoI"
      },
      "execution_count": null,
      "outputs": []
    },
    {
      "cell_type": "code",
      "source": [
        "today_date=datetime.datetime.today()"
      ],
      "metadata": {
        "id": "lYoroJWD86Rz"
      },
      "execution_count": null,
      "outputs": []
    },
    {
      "cell_type": "code",
      "source": [
        "today_date"
      ],
      "metadata": {
        "colab": {
          "base_uri": "https://localhost:8080/"
        },
        "id": "b977yV4c9A6d",
        "outputId": "09f58c40-cd46-4a8a-f41d-004e3e045068"
      },
      "execution_count": null,
      "outputs": [
        {
          "output_type": "execute_result",
          "data": {
            "text/plain": [
              "datetime.datetime(2023, 2, 3, 11, 9, 56, 387820)"
            ]
          },
          "metadata": {},
          "execution_count": 18
        }
      ]
    },
    {
      "cell_type": "code",
      "source": [
        "today_date-datetime.timedelta(3)"
      ],
      "metadata": {
        "colab": {
          "base_uri": "https://localhost:8080/"
        },
        "id": "J08akZYW9DQm",
        "outputId": "5627ab5b-9763-4c29-b8ff-4bb5e150500a"
      },
      "execution_count": null,
      "outputs": [
        {
          "output_type": "execute_result",
          "data": {
            "text/plain": [
              "datetime.datetime(2023, 1, 31, 11, 9, 56, 387820)"
            ]
          },
          "metadata": {},
          "execution_count": 19
        }
      ]
    },
    {
      "cell_type": "code",
      "source": [
        "#### List Comprehension\n",
        "days=[today_date-datetime.timedelta(x) for x in range(0,15)]"
      ],
      "metadata": {
        "id": "hw-1fob-9Uth"
      },
      "execution_count": null,
      "outputs": []
    },
    {
      "cell_type": "code",
      "source": [
        "import pandas as pd\n",
        "data=pd.DataFrame(days)\n",
        "data.columns=[\"Day\"]"
      ],
      "metadata": {
        "id": "DOQLOOj19igA"
      },
      "execution_count": null,
      "outputs": []
    },
    {
      "cell_type": "code",
      "source": [
        "data.head()"
      ],
      "metadata": {
        "colab": {
          "base_uri": "https://localhost:8080/",
          "height": 206
        },
        "id": "Qa_zQQrn9uIK",
        "outputId": "ac5bcab1-c9c0-4e6e-e2ab-a129af55d4be"
      },
      "execution_count": null,
      "outputs": [
        {
          "output_type": "execute_result",
          "data": {
            "text/plain": [
              "                         Day\n",
              "0 2023-02-03 11:09:56.387820\n",
              "1 2023-02-02 11:09:56.387820\n",
              "2 2023-02-01 11:09:56.387820\n",
              "3 2023-01-31 11:09:56.387820\n",
              "4 2023-01-30 11:09:56.387820"
            ],
            "text/html": [
              "\n",
              "  <div id=\"df-a2c97e58-6fbe-4eef-b2fc-27c0d9549061\">\n",
              "    <div class=\"colab-df-container\">\n",
              "      <div>\n",
              "<style scoped>\n",
              "    .dataframe tbody tr th:only-of-type {\n",
              "        vertical-align: middle;\n",
              "    }\n",
              "\n",
              "    .dataframe tbody tr th {\n",
              "        vertical-align: top;\n",
              "    }\n",
              "\n",
              "    .dataframe thead th {\n",
              "        text-align: right;\n",
              "    }\n",
              "</style>\n",
              "<table border=\"1\" class=\"dataframe\">\n",
              "  <thead>\n",
              "    <tr style=\"text-align: right;\">\n",
              "      <th></th>\n",
              "      <th>Day</th>\n",
              "    </tr>\n",
              "  </thead>\n",
              "  <tbody>\n",
              "    <tr>\n",
              "      <th>0</th>\n",
              "      <td>2023-02-03 11:09:56.387820</td>\n",
              "    </tr>\n",
              "    <tr>\n",
              "      <th>1</th>\n",
              "      <td>2023-02-02 11:09:56.387820</td>\n",
              "    </tr>\n",
              "    <tr>\n",
              "      <th>2</th>\n",
              "      <td>2023-02-01 11:09:56.387820</td>\n",
              "    </tr>\n",
              "    <tr>\n",
              "      <th>3</th>\n",
              "      <td>2023-01-31 11:09:56.387820</td>\n",
              "    </tr>\n",
              "    <tr>\n",
              "      <th>4</th>\n",
              "      <td>2023-01-30 11:09:56.387820</td>\n",
              "    </tr>\n",
              "  </tbody>\n",
              "</table>\n",
              "</div>\n",
              "      <button class=\"colab-df-convert\" onclick=\"convertToInteractive('df-a2c97e58-6fbe-4eef-b2fc-27c0d9549061')\"\n",
              "              title=\"Convert this dataframe to an interactive table.\"\n",
              "              style=\"display:none;\">\n",
              "        \n",
              "  <svg xmlns=\"http://www.w3.org/2000/svg\" height=\"24px\"viewBox=\"0 0 24 24\"\n",
              "       width=\"24px\">\n",
              "    <path d=\"M0 0h24v24H0V0z\" fill=\"none\"/>\n",
              "    <path d=\"M18.56 5.44l.94 2.06.94-2.06 2.06-.94-2.06-.94-.94-2.06-.94 2.06-2.06.94zm-11 1L8.5 8.5l.94-2.06 2.06-.94-2.06-.94L8.5 2.5l-.94 2.06-2.06.94zm10 10l.94 2.06.94-2.06 2.06-.94-2.06-.94-.94-2.06-.94 2.06-2.06.94z\"/><path d=\"M17.41 7.96l-1.37-1.37c-.4-.4-.92-.59-1.43-.59-.52 0-1.04.2-1.43.59L10.3 9.45l-7.72 7.72c-.78.78-.78 2.05 0 2.83L4 21.41c.39.39.9.59 1.41.59.51 0 1.02-.2 1.41-.59l7.78-7.78 2.81-2.81c.8-.78.8-2.07 0-2.86zM5.41 20L4 18.59l7.72-7.72 1.47 1.35L5.41 20z\"/>\n",
              "  </svg>\n",
              "      </button>\n",
              "      \n",
              "  <style>\n",
              "    .colab-df-container {\n",
              "      display:flex;\n",
              "      flex-wrap:wrap;\n",
              "      gap: 12px;\n",
              "    }\n",
              "\n",
              "    .colab-df-convert {\n",
              "      background-color: #E8F0FE;\n",
              "      border: none;\n",
              "      border-radius: 50%;\n",
              "      cursor: pointer;\n",
              "      display: none;\n",
              "      fill: #1967D2;\n",
              "      height: 32px;\n",
              "      padding: 0 0 0 0;\n",
              "      width: 32px;\n",
              "    }\n",
              "\n",
              "    .colab-df-convert:hover {\n",
              "      background-color: #E2EBFA;\n",
              "      box-shadow: 0px 1px 2px rgba(60, 64, 67, 0.3), 0px 1px 3px 1px rgba(60, 64, 67, 0.15);\n",
              "      fill: #174EA6;\n",
              "    }\n",
              "\n",
              "    [theme=dark] .colab-df-convert {\n",
              "      background-color: #3B4455;\n",
              "      fill: #D2E3FC;\n",
              "    }\n",
              "\n",
              "    [theme=dark] .colab-df-convert:hover {\n",
              "      background-color: #434B5C;\n",
              "      box-shadow: 0px 1px 3px 1px rgba(0, 0, 0, 0.15);\n",
              "      filter: drop-shadow(0px 1px 2px rgba(0, 0, 0, 0.3));\n",
              "      fill: #FFFFFF;\n",
              "    }\n",
              "  </style>\n",
              "\n",
              "      <script>\n",
              "        const buttonEl =\n",
              "          document.querySelector('#df-a2c97e58-6fbe-4eef-b2fc-27c0d9549061 button.colab-df-convert');\n",
              "        buttonEl.style.display =\n",
              "          google.colab.kernel.accessAllowed ? 'block' : 'none';\n",
              "\n",
              "        async function convertToInteractive(key) {\n",
              "          const element = document.querySelector('#df-a2c97e58-6fbe-4eef-b2fc-27c0d9549061');\n",
              "          const dataTable =\n",
              "            await google.colab.kernel.invokeFunction('convertToInteractive',\n",
              "                                                     [key], {});\n",
              "          if (!dataTable) return;\n",
              "\n",
              "          const docLinkHtml = 'Like what you see? Visit the ' +\n",
              "            '<a target=\"_blank\" href=https://colab.research.google.com/notebooks/data_table.ipynb>data table notebook</a>'\n",
              "            + ' to learn more about interactive tables.';\n",
              "          element.innerHTML = '';\n",
              "          dataTable['output_type'] = 'display_data';\n",
              "          await google.colab.output.renderOutput(dataTable, element);\n",
              "          const docLink = document.createElement('div');\n",
              "          docLink.innerHTML = docLinkHtml;\n",
              "          element.appendChild(docLink);\n",
              "        }\n",
              "      </script>\n",
              "    </div>\n",
              "  </div>\n",
              "  "
            ]
          },
          "metadata": {},
          "execution_count": 22
        }
      ]
    },
    {
      "cell_type": "code",
      "source": [],
      "metadata": {
        "id": "LhB3WeHH9wGG"
      },
      "execution_count": null,
      "outputs": []
    },
    {
      "cell_type": "markdown",
      "source": [
        "## **W3 SOURCE** "
      ],
      "metadata": {
        "id": "njXchAn5SWmB"
      }
    },
    {
      "cell_type": "code",
      "source": [
        "def test(nums):\n",
        "    return nums.count(19) == 2 and nums.count(5) >= 3\n",
        "nums = [19,19,15,5,3,5,5,2]\n",
        "print(\"Original list:\")\n",
        "print(nums)\n",
        "print(\"Check two occurrences of nineteen and at least three occurrences of five in the said list:\")\n",
        "print(test(nums))"
      ],
      "metadata": {
        "colab": {
          "base_uri": "https://localhost:8080/"
        },
        "id": "Ke_2uQEt901d",
        "outputId": "65ca6f39-f4b6-4a57-deb6-8e78d6ad97d0"
      },
      "execution_count": null,
      "outputs": [
        {
          "output_type": "stream",
          "name": "stdout",
          "text": [
            "Original list:\n",
            "[19, 19, 15, 5, 3, 5, 5, 2]\n",
            "Check two occurrences of nineteen and at least three occurrences of five in the said list:\n",
            "True\n"
          ]
        }
      ]
    },
    {
      "cell_type": "code",
      "source": [
        "def test(num):\n",
        "  return num.count(20)==3 and num.count(5)>4\n",
        "num=[20,28,56,98,19,56,3,5,6,20,20,5,5]\n",
        "print('original list:')\n",
        "print(num)\n",
        "print(\"Check two occurrences of nineteen and at least three occurrences of five in the said list:\")\n",
        "\n",
        "print(test(num))"
      ],
      "metadata": {
        "colab": {
          "base_uri": "https://localhost:8080/"
        },
        "id": "LzkwW5UeRpHf",
        "outputId": "67a2bdef-97d6-409e-9dff-66a7175dc954"
      },
      "execution_count": null,
      "outputs": [
        {
          "output_type": "stream",
          "name": "stdout",
          "text": [
            "original list:\n",
            "[20, 28, 56, 98, 19, 56, 3, 5, 6, 20, 20, 5, 5]\n",
            "Check two occurrences of nineteen and at least three occurrences of five in the said list:\n",
            "False\n"
          ]
        }
      ]
    },
    {
      "cell_type": "code",
      "source": [
        "def reverse_list_in_location(lst, start_pos, end_pos):\n",
        "    while start_pos < end_pos:\n",
        "        lst[start_pos], lst[end_pos] = lst[end_pos], lst[start_pos]\n",
        "        start_pos += 1\n",
        "        end_pos -= 1\n",
        "    return lst\n",
        "\n",
        "nums = [10,20,30,40,50,60,70,80]\n",
        "start_pos = 2\n",
        "end_pos = 4\n",
        "print(\"Original list:\")\n",
        "print(nums)\n",
        "print(\"Reverse elements of the said list between index position \"+str(start_pos)+ \" and \"+str(end_pos))\n",
        "print(reverse_list_in_location(nums,start_pos,end_pos))"
      ],
      "metadata": {
        "colab": {
          "base_uri": "https://localhost:8080/"
        },
        "id": "-O3TjBvjSBRa",
        "outputId": "1d6bebc7-6707-4ce8-f360-a50137a65a68"
      },
      "execution_count": null,
      "outputs": [
        {
          "output_type": "stream",
          "name": "stdout",
          "text": [
            "Original list:\n",
            "[10, 20, 30, 40, 50, 60, 70, 80]\n",
            "Reverse elements of the said list between index position 2 and 4\n",
            "[10, 20, 50, 40, 30, 60, 70, 80]\n"
          ]
        }
      ]
    },
    {
      "cell_type": "code",
      "source": [
        "start_pos=4\n",
        "end_pos=6\n",
        "print('original list:')\n",
        "print(nums)\n",
        "print('reverse num'+str(start_pos)+'and'+str(end_pos))\n",
        "print(reverse_list_in_location(nums,start_pos,end_pos))"
      ],
      "metadata": {
        "colab": {
          "base_uri": "https://localhost:8080/"
        },
        "id": "wqyn-3FiTGmy",
        "outputId": "a4cdcec0-d689-4d57-b604-16f9126c5d95"
      },
      "execution_count": null,
      "outputs": [
        {
          "output_type": "stream",
          "name": "stdout",
          "text": [
            "original list:\n",
            "[10, 20, 50, 40, 30, 60, 70, 80]\n",
            "reverse num4and6\n",
            "[10, 20, 50, 40, 70, 60, 30, 80]\n"
          ]
        }
      ]
    },
    {
      "cell_type": "code",
      "source": [
        "def test(n):\n",
        "    return n % 40 == 4 and n > 4 ** 4\n",
        "\n",
        "n = 922\n",
        "print(\"Original Integer:\")\n",
        "print(n)\n",
        "print(\"Check whether the said integer greater than 4^4 and which is 7 mod 134 :\")\n",
        "print(test(n))\n",
        "n = 914\n",
        "print(\"\\nOriginal Integer:\")\n",
        "print(n)\n",
        "print(\"Check whether the said integer greater than 4^4 and which is 7 mod 134 :\")\n",
        "print(test(n))"
      ],
      "metadata": {
        "colab": {
          "base_uri": "https://localhost:8080/"
        },
        "id": "9vo8GOZiTjQL",
        "outputId": "b2ba6820-f2d3-4e83-f5aa-147b3a87e9fc"
      },
      "execution_count": null,
      "outputs": [
        {
          "output_type": "stream",
          "name": "stdout",
          "text": [
            "Original Integer:\n",
            "922\n",
            "Check whether the said integer greater than 4^4 and which is 7 mod 134 :\n",
            "False\n",
            "\n",
            "Original Integer:\n",
            "914\n",
            "Check whether the said integer greater than 4^4 and which is 7 mod 134 :\n",
            "False\n"
          ]
        }
      ]
    },
    {
      "cell_type": "code",
      "source": [
        "def test(str1):\n",
        "    return str1[len(str1)-2] in str1[len(str1)-1] and str1[len(str1)-2] != str1[len(str1)-1]\n",
        "\n",
        "str11 = [\"a\",\"abb\",\"sfs\", \"oo\", \"de\", \"sfde\"]\n",
        "print(\"Original list:\")\n",
        "print(str11)\n",
        "print(\"Check the nth-1 string is a proper substring of nth string of the said list of strings:\")\n",
        "print(test(str11))"
      ],
      "metadata": {
        "colab": {
          "base_uri": "https://localhost:8080/"
        },
        "id": "48WMANSRUXcL",
        "outputId": "f13228f7-6f8d-471d-d40d-b812bcf74950"
      },
      "execution_count": null,
      "outputs": [
        {
          "output_type": "stream",
          "name": "stdout",
          "text": [
            "Original list:\n",
            "['a', 'abb', 'sfs', 'oo', 'de', 'sfde']\n",
            "Check the nth-1 string is a proper substring of nth string of the said list of strings:\n",
            "True\n"
          ]
        }
      ]
    },
    {
      "cell_type": "code",
      "source": [
        "def test(str1):\n",
        "  return str1[len(str1)-2] in str1[len(str1)-1]  and str1[len(str1)-2]!=str1[len(str1)-1]"
      ],
      "metadata": {
        "id": "Cv7qKZrHYqNc"
      },
      "execution_count": null,
      "outputs": []
    },
    {
      "cell_type": "code",
      "source": [
        "str11=['a','bb','cc','dd','dedd']\n",
        "print(str11)\n",
        "print(test(str11))"
      ],
      "metadata": {
        "colab": {
          "base_uri": "https://localhost:8080/"
        },
        "id": "mdWmEpu3ZaIq",
        "outputId": "f7d30d97-9ab9-4386-8104-21163aed8757"
      },
      "execution_count": null,
      "outputs": [
        {
          "output_type": "stream",
          "name": "stdout",
          "text": [
            "['a', 'bb', 'cc', 'dd', 'dedd']\n",
            "True\n"
          ]
        }
      ]
    },
    {
      "cell_type": "code",
      "source": [
        "def test(str1):\n",
        "  return str1[len(str1)-3] in str1[len(str1)-1] and str1[len(str1)-3]!=str1[len(str1)-1]"
      ],
      "metadata": {
        "id": "Koc7F5fXZmHV"
      },
      "execution_count": null,
      "outputs": []
    },
    {
      "cell_type": "code",
      "source": [
        "dtr1=['aa','bb','cc','dd','dhgy']\n",
        "print(dtr1)\n",
        "print(test(dtr1))"
      ],
      "metadata": {
        "colab": {
          "base_uri": "https://localhost:8080/"
        },
        "id": "UlzDv1VddFn9",
        "outputId": "86db5a84-44b5-4213-a564-3e4707f03925"
      },
      "execution_count": null,
      "outputs": [
        {
          "output_type": "stream",
          "name": "stdout",
          "text": [
            "['aa', 'bb', 'cc', 'dd', 'dhgy']\n",
            "False\n"
          ]
        }
      ]
    },
    {
      "cell_type": "code",
      "source": [
        "dtr2=['aa','bb','cc','dd','cce']\n",
        "print(dtr2)\n",
        "print(test(dtr2))"
      ],
      "metadata": {
        "colab": {
          "base_uri": "https://localhost:8080/"
        },
        "id": "J-tOtcvpdP0K",
        "outputId": "58d77024-5c53-450d-93e3-f6863a976565"
      },
      "execution_count": null,
      "outputs": [
        {
          "output_type": "stream",
          "name": "stdout",
          "text": [
            "['aa', 'bb', 'cc', 'dd', 'cce']\n",
            "True\n"
          ]
        }
      ]
    },
    {
      "cell_type": "code",
      "source": [
        "x = {'a':2,'b':3}\n",
        "y = {'pavan':4,'kumar':5}\n",
        "z = {**x,**y}"
      ],
      "metadata": {
        "id": "B_8yzZPOdZoi"
      },
      "execution_count": null,
      "outputs": []
    },
    {
      "cell_type": "code",
      "source": [
        "import "
      ],
      "metadata": {
        "id": "O9A5hr47P7at"
      },
      "execution_count": null,
      "outputs": []
    }
  ]
}